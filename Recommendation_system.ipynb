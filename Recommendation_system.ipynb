{
  "nbformat": 4,
  "nbformat_minor": 0,
  "metadata": {
    "colab": {
      "provenance": [],
      "authorship_tag": "ABX9TyOpiNhfAuKoIffvfB8RMCs+",
      "include_colab_link": true
    },
    "kernelspec": {
      "name": "python3",
      "display_name": "Python 3"
    },
    "language_info": {
      "name": "python"
    }
  },
  "cells": [
    {
      "cell_type": "markdown",
      "metadata": {
        "id": "view-in-github",
        "colab_type": "text"
      },
      "source": [
        "<a href=\"https://colab.research.google.com/github/R0h1ta/ML-with-Flask/blob/main/Recommendation_system.ipynb\" target=\"_parent\"><img src=\"https://colab.research.google.com/assets/colab-badge.svg\" alt=\"Open In Colab\"/></a>"
      ]
    },
    {
      "cell_type": "code",
      "execution_count": null,
      "metadata": {
        "id": "FJu9bEl3nn6D"
      },
      "outputs": [],
      "source": []
    },
    {
      "cell_type": "markdown",
      "source": [
        "example for cosinesilimarity                         \n",
        "\n",
        "books recommendation engine(goodreads)\n",
        "\n",
        "Netflix movie recommendation\n",
        "\n",
        "\n"
      ],
      "metadata": {
        "id": "XRgI4wCyny4Q"
      }
    },
    {
      "cell_type": "markdown",
      "source": [
        "examples for correlationsimilarity\n",
        "\n",
        "if u like reading thriller novels it will recommend the similar books, for eaxmple if u liked reading the book\"silent patient\" it will recommend you\"verity\".\n",
        "\n",
        "if  you finished watching \"intersellar\" netflix will also recommend you \"gravity\"."
      ],
      "metadata": {
        "id": "1EgADOt_ooTi"
      }
    },
    {
      "cell_type": "code",
      "source": [
        "''"
      ],
      "metadata": {
        "id": "4wnHvZCspNoc"
      },
      "execution_count": null,
      "outputs": []
    }
  ]
}